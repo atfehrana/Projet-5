{
 "cells": [
  {
   "cell_type": "markdown",
   "metadata": {},
   "source": [
    "### PROJET 5 : Catégorisez automatiquement des questions"
   ]
  },
  {
   "cell_type": "code",
   "execution_count": 11,
   "metadata": {},
   "outputs": [],
   "source": [
    "import requests\n",
    "import pandas as pd"
   ]
  },
  {
   "cell_type": "code",
   "execution_count": 12,
   "metadata": {},
   "outputs": [],
   "source": [
    "def retrieve_query(api, params):\n",
    "    response = requests.get(api, params=params)\n",
    "    return response.json()['items']\n"
   ]
  },
  {
   "cell_type": "code",
   "execution_count": 17,
   "metadata": {},
   "outputs": [
    {
     "name": "stdout",
     "output_type": "stream",
     "text": [
      "                 date                                              title  \\\n",
      "0 2008-10-23 22:21:11  What does the &quot;yield&quot; keyword do in ...   \n",
      "1 2009-01-07 04:11:00  What does if __name__ == &quot;__main__&quot;:...   \n",
      "2 2008-12-27 08:32:18   Does Python have a ternary conditional operator?   \n",
      "3 2008-09-19 06:10:46                    What are metaclasses in Python?   \n",
      "4 2008-09-17 12:55:00  How do I check whether a file exists without e...   \n",
      "\n",
      "                                                tags  score  \n",
      "0                 python, iterator, generator, yield  12965  \n",
      "1  python, namespaces, program-entry-point, pytho...   8277  \n",
      "2            python, operators, conditional-operator   7975  \n",
      "3  python, oop, metaclass, python-class, python-d...   7423  \n",
      "4                          python, file, file-exists   7212  \n"
     ]
    }
   ],
   "source": [
    "api_url = 'https://api.stackexchange.com/2.3/questions'\n",
    "\n",
    "params = {\n",
    "    'order': 'desc',\n",
    "    'sort': 'votes',\n",
    "    'tagged': 'python',\n",
    "    'site': 'stackoverflow',\n",
    "    'pagesize': 50,\n",
    "}\n",
    "\n",
    "questions = retrieve_query(api_url, params)\n",
    "\n",
    "filtered_questions = [q for q in questions if q['score'] > 50]\n",
    "\n",
    "data = []\n",
    "for q in filtered_questions:\n",
    "    data.append({\n",
    "        'date': pd.to_datetime(q['creation_date'], unit='s'),\n",
    "        'title': q['title'],\n",
    "        'tags': ', '.join(q['tags']),\n",
    "        'score': q['score']\n",
    "    })\n",
    "\n",
    "df = pd.DataFrame(data, columns=['date', 'title' , 'tags', 'score'])\n",
    "\n",
    "print(df.head())\n"
   ]
  }
 ],
 "metadata": {
  "kernelspec": {
   "display_name": "Python 3",
   "language": "python",
   "name": "python3"
  },
  "language_info": {
   "codemirror_mode": {
    "name": "ipython",
    "version": 3
   },
   "file_extension": ".py",
   "mimetype": "text/x-python",
   "name": "python",
   "nbconvert_exporter": "python",
   "pygments_lexer": "ipython3",
   "version": "3.10.14"
  }
 },
 "nbformat": 4,
 "nbformat_minor": 2
}
